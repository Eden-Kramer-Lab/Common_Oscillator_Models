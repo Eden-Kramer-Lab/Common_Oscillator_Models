{
 "cells": [
  {
   "cell_type": "code",
   "execution_count": 1,
   "id": "f8ba852f-fc63-4acf-8db7-41669200b2e9",
   "metadata": {},
   "outputs": [],
   "source": [
    "import numpy as np\n",
    "import scipy\n",
    "import matplotlib.pyplot as plt\n",
    "from spectral_connectivity import Multitaper\n",
    "from spectral_connectivity import Connectivity\n",
    "from core_functions.simulated_data import simdata_settings, simulate\n",
    "from core_functions.core import em_B, get_theoretical_psd_COM\n"
   ]
  },
  {
   "cell_type": "code",
   "execution_count": 2,
   "id": "8c532725-cbf5-4ec4-b6e0-a0de2b2080b5",
   "metadata": {},
   "outputs": [],
   "source": [
    "# Simulate Model\n",
    "T = 30000\n",
    "blnSimS = False\n",
    "\n",
    "fs, k, n, M, osc_freqs, rhos, var_state_nois, var_obs_noi, A, Q, R, Btrue, Z, X0, S0 = simdata_settings()\n",
    "\n",
    "ta = np.arange(T)/fs\n",
    "x_dim = k*2\n",
    "\n",
    "if blnSimS:\n",
    "    s=None\n",
    "else:     \n",
    "    s = np.zeros(T,dtype=int)\n",
    "    s[ta>80]=1\n",
    "    s[ta>200]=2\n",
    "\n",
    "y, s, x = simulate(A, Btrue, Q, R, Z, X0, S0, T, s=s)\n"
   ]
  },
  {
   "cell_type": "code",
   "execution_count": 3,
   "id": "a3d50896-b343-4e62-887b-84190f60c09e",
   "metadata": {},
   "outputs": [
    {
     "ename": "LinAlgError",
     "evalue": "Singular matrix",
     "output_type": "error",
     "traceback": [
      "\u001b[0;31m---------------------------------------------------------------------------\u001b[0m",
      "\u001b[0;31mLinAlgError\u001b[0m                               Traceback (most recent call last)",
      "Cell \u001b[0;32mIn[3], line 7\u001b[0m\n\u001b[1;32m      3\u001b[0m max_iter \u001b[38;5;241m=\u001b[39m \u001b[38;5;241m10\u001b[39m \u001b[38;5;66;03m# Max iterations\u001b[39;00m\n\u001b[1;32m      5\u001b[0m B0 \u001b[38;5;241m=\u001b[39m np\u001b[38;5;241m.\u001b[39mrandom\u001b[38;5;241m.\u001b[39muniform(\u001b[38;5;241m0\u001b[39m,\u001b[38;5;241m0.1\u001b[39m,size\u001b[38;5;241m=\u001b[39m[n,x_dim,M])\n\u001b[0;32m----> 7\u001b[0m em_B(y, tol, max_iter, A, B0, Q, R, Z, X0)\n",
      "File \u001b[0;32m~/Dropbox (BOSTON UNIVERSITY)/BU Prof/Code/wanchi/Common_Oscillator_Models/core_functions/core.py:480\u001b[0m, in \u001b[0;36mem_B\u001b[0;34m(y, tol, max_iter, A, B, Q, R, Z, X_0)\u001b[0m\n\u001b[1;32m    476\u001b[0m     B1sum[:, :, j] \u001b[38;5;241m=\u001b[39m np\u001b[38;5;241m.\u001b[39msum(B1[:, :, j, :], axis\u001b[38;5;241m=\u001b[39m\u001b[38;5;241m2\u001b[39m)\n\u001b[1;32m    477\u001b[0m     B2sum[:, :, j] \u001b[38;5;241m=\u001b[39m np\u001b[38;5;241m.\u001b[39msum(B2[:, :, j, :], axis\u001b[38;5;241m=\u001b[39m\u001b[38;5;241m2\u001b[39m)\n\u001b[1;32m    479\u001b[0m     Bj[:, :, j, itr \u001b[38;5;241m+\u001b[39m \u001b[38;5;241m1\u001b[39m] \u001b[38;5;241m=\u001b[39m (\n\u001b[0;32m--> 480\u001b[0m         np\u001b[38;5;241m.\u001b[39mlinalg\u001b[38;5;241m.\u001b[39minv(B2sum[:, :, j]) \u001b[38;5;241m@\u001b[39m B1sum[:, :, j]\n\u001b[1;32m    481\u001b[0m     )  \u001b[38;5;66;03m# analytic sol\u001b[39;00m\n\u001b[1;32m    483\u001b[0m \u001b[38;5;28;01mif\u001b[39;00m \u001b[38;5;28mabs\u001b[39m(Bj[:, :, \u001b[38;5;241m1\u001b[39m, itr \u001b[38;5;241m+\u001b[39m \u001b[38;5;241m1\u001b[39m] \u001b[38;5;241m-\u001b[39m Bj[:, :, \u001b[38;5;241m1\u001b[39m, itr]) \u001b[38;5;241m<\u001b[39m tol:\n\u001b[1;32m    484\u001b[0m     \u001b[38;5;28;01mbreak\u001b[39;00m\n",
      "File \u001b[0;32m<__array_function__ internals>:200\u001b[0m, in \u001b[0;36minv\u001b[0;34m(*args, **kwargs)\u001b[0m\n",
      "File \u001b[0;32m~/miniconda3/envs/common_oscillator_models/lib/python3.11/site-packages/numpy/linalg/linalg.py:538\u001b[0m, in \u001b[0;36minv\u001b[0;34m(a)\u001b[0m\n\u001b[1;32m    536\u001b[0m signature \u001b[38;5;241m=\u001b[39m \u001b[38;5;124m'\u001b[39m\u001b[38;5;124mD->D\u001b[39m\u001b[38;5;124m'\u001b[39m \u001b[38;5;28;01mif\u001b[39;00m isComplexType(t) \u001b[38;5;28;01melse\u001b[39;00m \u001b[38;5;124m'\u001b[39m\u001b[38;5;124md->d\u001b[39m\u001b[38;5;124m'\u001b[39m\n\u001b[1;32m    537\u001b[0m extobj \u001b[38;5;241m=\u001b[39m get_linalg_error_extobj(_raise_linalgerror_singular)\n\u001b[0;32m--> 538\u001b[0m ainv \u001b[38;5;241m=\u001b[39m _umath_linalg\u001b[38;5;241m.\u001b[39minv(a, signature\u001b[38;5;241m=\u001b[39msignature, extobj\u001b[38;5;241m=\u001b[39mextobj)\n\u001b[1;32m    539\u001b[0m \u001b[38;5;28;01mreturn\u001b[39;00m wrap(ainv\u001b[38;5;241m.\u001b[39mastype(result_t, copy\u001b[38;5;241m=\u001b[39m\u001b[38;5;28;01mFalse\u001b[39;00m))\n",
      "File \u001b[0;32m~/miniconda3/envs/common_oscillator_models/lib/python3.11/site-packages/numpy/linalg/linalg.py:89\u001b[0m, in \u001b[0;36m_raise_linalgerror_singular\u001b[0;34m(err, flag)\u001b[0m\n\u001b[1;32m     88\u001b[0m \u001b[38;5;28;01mdef\u001b[39;00m \u001b[38;5;21m_raise_linalgerror_singular\u001b[39m(err, flag):\n\u001b[0;32m---> 89\u001b[0m     \u001b[38;5;28;01mraise\u001b[39;00m LinAlgError(\u001b[38;5;124m\"\u001b[39m\u001b[38;5;124mSingular matrix\u001b[39m\u001b[38;5;124m\"\u001b[39m)\n",
      "\u001b[0;31mLinAlgError\u001b[0m: Singular matrix"
     ]
    }
   ],
   "source": [
    "# Pretend we don't know B and fit it\n",
    "tol = 1e-6 # Tolerance\n",
    "max_iter = 10 # Max iterations\n",
    "\n",
    "B0 = np.random.uniform(0,0.1,size=[n,x_dim,M])\n",
    "\n",
    "em_B(y, tol, max_iter, A, B0, Q, R, Z, X0)"
   ]
  },
  {
   "cell_type": "code",
   "execution_count": null,
   "id": "e959c3e6-fe19-4314-a7c1-40c134b6484a",
   "metadata": {},
   "outputs": [],
   "source": []
  }
 ],
 "metadata": {
  "kernelspec": {
   "display_name": "Python 3 (ipykernel)",
   "language": "python",
   "name": "python3"
  },
  "language_info": {
   "codemirror_mode": {
    "name": "ipython",
    "version": 3
   },
   "file_extension": ".py",
   "mimetype": "text/x-python",
   "name": "python",
   "nbconvert_exporter": "python",
   "pygments_lexer": "ipython3",
   "version": "3.11.3"
  }
 },
 "nbformat": 4,
 "nbformat_minor": 5
}
